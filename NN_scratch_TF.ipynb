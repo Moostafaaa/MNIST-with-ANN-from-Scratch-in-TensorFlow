{
  "cells": [
    {
      "cell_type": "markdown",
      "metadata": {
        "id": "view-in-github",
        "colab_type": "text"
      },
      "source": [
        "<a href=\"https://colab.research.google.com/github/Moostafaaa/Neural-Network-from-Scratch-in-TensorFlow/blob/main/NN_scratch_TF.ipynb\" target=\"_parent\"><img src=\"https://colab.research.google.com/assets/colab-badge.svg\" alt=\"Open In Colab\"/></a>"
      ]
    },
    {
      "cell_type": "markdown",
      "metadata": {
        "id": "CM6wD9IjsWqM"
      },
      "source": [
        "# Neural Network from Scratch in TensorFlow"
      ]
    },
    {
      "cell_type": "markdown",
      "metadata": {
        "id": "28GvxX6rsWqP"
      },
      "source": [
        "# Task 1: Introduction and Importing Libraries"
      ]
    },
    {
      "cell_type": "code",
      "execution_count": 2,
      "metadata": {
        "colab": {
          "base_uri": "https://localhost:8080/"
        },
        "id": "2NZ6KJJfsWqQ",
        "outputId": "1617f768-a8ed-4a7c-8297-61e3c354e7a6"
      },
      "outputs": [
        {
          "output_type": "stream",
          "name": "stdout",
          "text": [
            "TensorFlow Version: 2.15.0\n"
          ]
        }
      ],
      "source": [
        "import tensorflow as tf\n",
        "import numpy as np\n",
        "import matplotlib.pyplot as plt\n",
        "import nn_utils\n",
        "%matplotlib inline\n",
        "\n",
        "print('TensorFlow Version:', tf.__version__)"
      ]
    },
    {
      "cell_type": "markdown",
      "metadata": {
        "id": "dsrW0LD4sWqS"
      },
      "source": [
        "# Task 2: Initializing Neural Network"
      ]
    },
    {
      "cell_type": "code",
      "execution_count": 3,
      "metadata": {
        "id": "fSbP3rvEsWqS"
      },
      "outputs": [],
      "source": [
        "class NeuralNetwork:\n",
        "    def __init__(self, layers):\n",
        "        self.layers = layers\n",
        "        self.L = len(layers)\n",
        "        self.num_features = layers[0]\n",
        "        self.num_classes = layers[-1]\n",
        "\n",
        "        self.W = {}\n",
        "        self.b = {}\n",
        "\n",
        "        self.dW = {}\n",
        "        self.db = {}\n",
        "\n",
        "        self.setup()\n",
        "\n",
        "    def setup(self):\n",
        "        # Your code here\n",
        "        for i in range(1,self.L):\n",
        "          self.W[i] = tf.Variable(tf.random.normal(shape=(self.layers[i],self.layers[i-1])))\n",
        "          self.b[i] = tf.Variable(tf.random.normal(shape=(self.layers[i],1)))"
      ]
    },
    {
      "cell_type": "markdown",
      "metadata": {
        "id": "2w_16Qo3sWqT"
      },
      "source": [
        "# Task 3: Forward Pass"
      ]
    },
    {
      "cell_type": "code",
      "execution_count": 25,
      "metadata": {
        "id": "w8C85IC1sWqT"
      },
      "outputs": [],
      "source": [
        "class NeuralNetwork(NeuralNetwork):\n",
        "    def forward_pass(self, X):\n",
        "        # Your code here\n",
        "        A = tf.convert_to_tensor(X, dtype=tf.float32)\n",
        "        for i in range(1,self.L):\n",
        "          Z = tf.matmul(A, tf.transpose(self.W[i])) + tf.transpose(self.b[i])\n",
        "          if i != self.L-1:\n",
        "            A = tf.nn.relu(Z)\n",
        "          else:\n",
        "            A = Z\n",
        "\n",
        "        return A"
      ]
    },
    {
      "cell_type": "markdown",
      "metadata": {
        "id": "cAnJHV3BsWqT"
      },
      "source": [
        "# Task 4: Computing Loss and Updating Parameters"
      ]
    },
    {
      "cell_type": "code",
      "execution_count": 26,
      "metadata": {
        "id": "Zmvdrx5EsWqU"
      },
      "outputs": [],
      "source": [
        "class NeuralNetwork(NeuralNetwork):\n",
        "    # Your code here\n",
        "    def compute_loss(self,A, Y):\n",
        "      loss = tf.nn.softmax_cross_entropy_with_logits(Y,A)\n",
        "      return tf.reduce_mean(loss)\n",
        "\n",
        "    def update_params(self, lr):\n",
        "      for i in range(1,self.L):\n",
        "        self.W[i].assign_sub(lr * self.dW[i])\n",
        "        self.b[i].assign_sub(lr * self.db[i])"
      ]
    },
    {
      "cell_type": "markdown",
      "metadata": {
        "id": "bIDj2L-1sWqU"
      },
      "source": [
        "# Task 5: Predict and Info Functions"
      ]
    },
    {
      "cell_type": "code",
      "execution_count": 27,
      "metadata": {
        "id": "pl7mr3shsWqV"
      },
      "outputs": [],
      "source": [
        "class NeuralNetwork(NeuralNetwork):\n",
        "    def predict(self, X):\n",
        "        # Your code here\n",
        "        A = self.forward_pass(X)\n",
        "        return tf.argmax(tf.nn.softmax(A),axis=1)\n",
        "\n",
        "    def info(self):\n",
        "        num_params = 0\n",
        "        for i in range(1, self.L):\n",
        "            num_params += self.W[i].shape[0] * self.W[i].shape[1]\n",
        "            num_params += self.b[i].shape[0]\n",
        "        print('Input Features:', self.num_features)\n",
        "        print('Number of Classes:', self.num_classes)\n",
        "        print('Hidden Layers:')\n",
        "        print('--------------')\n",
        "        for i in range(1, self.L-1):\n",
        "            print('Layer {}, Units {}'.format(i, self.layers[i]))\n",
        "        print('--------------')\n",
        "        print('Number of parameters:', num_params)"
      ]
    },
    {
      "cell_type": "markdown",
      "metadata": {
        "id": "qw6Pzc4lsWqV"
      },
      "source": [
        "# Task 6: Training on Batch"
      ]
    },
    {
      "cell_type": "code",
      "execution_count": 28,
      "metadata": {
        "id": "UqgMtwncsWqV"
      },
      "outputs": [],
      "source": [
        "class NeuralNetwork(NeuralNetwork):\n",
        "    def train_on_batch(self, X, Y, lr):\n",
        "        # Your code here\n",
        "        X = tf.convert_to_tensor(X, dtype=tf.float32)\n",
        "        Y = tf.convert_to_tensor(Y, dtype=tf.float32)\n",
        "        with tf.GradientTape(persistent=True) as tape:\n",
        "          A = self.forward_pass(X)\n",
        "          loss = self.compute_loss(A,Y)\n",
        "        for i in range(1,self.L):\n",
        "          self.dW[i] = tape.gradient(loss, self.W[i])\n",
        "          self.db[i] = tape.gradient(loss, self.b[i])\n",
        "        del tape\n",
        "        self.update_params(lr)\n",
        "        return loss.numpy()\n",
        ""
      ]
    },
    {
      "cell_type": "markdown",
      "metadata": {
        "id": "EsdwTabtsWqV"
      },
      "source": [
        "# Task 7: Training on Complete Set"
      ]
    },
    {
      "cell_type": "code",
      "execution_count": 33,
      "metadata": {
        "id": "Jr-TngRHsWqV"
      },
      "outputs": [],
      "source": [
        "class NeuralNetwork(NeuralNetwork):\n",
        "    def train(self, x_train, y_train, x_test, y_test, epochs, steps_per_epoch, batch_size, lr):\n",
        "        # Your code here\n",
        "        history = {\n",
        "            'val_loss' : [],\n",
        "            'train_loss' : [],\n",
        "            'val_acc' : []\n",
        "        }\n",
        "\n",
        "        for e in range(0,epochs):\n",
        "          epoch_train_loss=0\n",
        "          print('Epoch {}'.format(e),end='.')\n",
        "          for i in range(0,steps_per_epoch):\n",
        "            x_batch = x_train[i* batch_size : (i+1) * batch_size]\n",
        "            y_batch = y_train[i* batch_size : (i+1) * batch_size]\n",
        "\n",
        "            batch_loss = self.train_on_batch(x_batch, y_batch, lr)\n",
        "            epoch_train_loss += batch_loss\n",
        "            if i%int(steps_per_epoch/10) == 0:\n",
        "              print(end=\".\")\n",
        "\n",
        "            history['train_loss'].append(epoch_train_loss/steps_per_epoch)\n",
        "            val_A = self.forward_pass(x_test)\n",
        "            val_loss = self.compute_loss(val_A , y_test).numpy()\n",
        "            history['val_loss'].append(val_loss)\n",
        "            val_preds = self.predict(x_test)\n",
        "            val_acc = np.mean(np.argmax(y_test,axis=1) == val_preds.numpy())\n",
        "            history['val_acc'].append(val_acc)\n",
        "            print(\"val_acc:\", val_acc)\n",
        "          return history"
      ]
    },
    {
      "cell_type": "markdown",
      "metadata": {
        "id": "acoOXGPtsWqW"
      },
      "source": [
        "# Task 8: Application"
      ]
    },
    {
      "cell_type": "code",
      "execution_count": 10,
      "metadata": {
        "colab": {
          "base_uri": "https://localhost:8080/",
          "height": 435
        },
        "id": "IQFNLseKsWqW",
        "outputId": "d2fffe84-03f5-4a84-bafc-e3cb3d4299f1"
      },
      "outputs": [
        {
          "output_type": "stream",
          "name": "stdout",
          "text": [
            "Downloading data from https://storage.googleapis.com/tensorflow/tf-keras-datasets/mnist.npz\n",
            "11490434/11490434 [==============================] - 0s 0us/step\n"
          ]
        },
        {
          "output_type": "display_data",
          "data": {
            "text/plain": [
              "<Figure size 1000x500 with 10 Axes>"
            ],
            "image/png": "[encoded data removed]"
          },
          "metadata": {}
        }
      ],
      "source": [
        "(x_train, y_train),(x_test, y_test) = nn_utils.load_data()\n",
        "nn_utils.plot_random_examples(x_train, y_train).show()"
      ]
    },
    {
      "cell_type": "code",
      "execution_count": 34,
      "metadata": {
        "colab": {
          "base_uri": "https://localhost:8080/"
        },
        "id": "e53ZlW6PsWqW",
        "outputId": "dbb74722-779d-401a-f24f-2ad05b7d03a0"
      },
      "outputs": [
        {
          "output_type": "stream",
          "name": "stdout",
          "text": [
            "Input Features: 784\n",
            "Number of Classes: 10\n",
            "Hidden Layers:\n",
            "--------------\n",
            "Layer 1, Units 128\n",
            "Layer 2, Units 128\n",
            "--------------\n",
            "Number of parameters: 118282\n"
          ]
        }
      ],
      "source": [
        "net = NeuralNetwork([784, 128, 128, 10])\n",
        "net.info()"
      ]
    },
    {
      "cell_type": "code",
      "execution_count": 38,
      "metadata": {
        "colab": {
          "base_uri": "https://localhost:8080/"
        },
        "id": "-4ytjvSGsWqW",
        "outputId": "642e0e27-19c3-466f-9d41-d0074bb81d49"
      },
      "outputs": [
        {
          "output_type": "stream",
          "name": "stdout",
          "text": [
            "Steps_per_epoch 500\n"
          ]
        }
      ],
      "source": [
        "batch_size = 120\n",
        "epochs = 5\n",
        "steps_per_epoch = int(x_train.shape[0] / batch_size)\n",
        "lr = 0.003\n",
        "print('Steps_per_epoch', steps_per_epoch)"
      ]
    },
    {
      "cell_type": "code",
      "execution_count": 39,
      "metadata": {
        "colab": {
          "base_uri": "https://localhost:8080/"
        },
        "collapsed": true,
        "id": "K2CT8NsPsWqW",
        "outputId": "db81344b-631b-4d48-8331-b246c090f4a9"
      },
      "outputs": [
        {
          "output_type": "stream",
          "name": "stdout",
          "text": [
            "Epoch 0..val_acc: 0.8466\n",
            "val_acc: 0.8475\n",
            "val_acc: 0.8448\n",
            "val_acc: 0.8449\n",
            "val_acc: 0.843\n",
            "val_acc: 0.8465\n",
            "val_acc: 0.846\n",
            "val_acc: 0.8493\n",
            "val_acc: 0.8497\n",
            "val_acc: 0.8484\n",
            "val_acc: 0.8418\n",
            "val_acc: 0.8473\n",
            "val_acc: 0.8494\n",
            "val_acc: 0.8504\n",
            "val_acc: 0.8477\n",
            "val_acc: 0.8508\n",
            "val_acc: 0.848\n",
            "val_acc: 0.848\n",
            "val_acc: 0.8497\n",
            "val_acc: 0.8493\n",
            "val_acc: 0.8476\n",
            "val_acc: 0.85\n",
            "val_acc: 0.8481\n",
            "val_acc: 0.8465\n",
            "val_acc: 0.8468\n",
            "val_acc: 0.8453\n",
            "val_acc: 0.8462\n",
            "val_acc: 0.8491\n",
            "val_acc: 0.8473\n",
            "val_acc: 0.8438\n",
            "val_acc: 0.8464\n",
            "val_acc: 0.8478\n",
            "val_acc: 0.8455\n",
            "val_acc: 0.8424\n",
            "val_acc: 0.8451\n",
            "val_acc: 0.8454\n",
            "val_acc: 0.8475\n",
            "val_acc: 0.8461\n",
            "val_acc: 0.8439\n",
            "val_acc: 0.8454\n",
            "val_acc: 0.8396\n",
            "val_acc: 0.8405\n",
            "val_acc: 0.8474\n",
            "val_acc: 0.8488\n",
            "val_acc: 0.8493\n",
            "val_acc: 0.8523\n",
            "val_acc: 0.8486\n",
            "val_acc: 0.8465\n",
            "val_acc: 0.8486\n",
            "val_acc: 0.8493\n",
            ".val_acc: 0.8476\n",
            "val_acc: 0.8475\n",
            "val_acc: 0.8447\n",
            "val_acc: 0.8456\n",
            "val_acc: 0.8461\n",
            "val_acc: 0.8464\n",
            "val_acc: 0.8445\n",
            "val_acc: 0.8426\n",
            "val_acc: 0.8436\n",
            "val_acc: 0.8446\n",
            "val_acc: 0.8492\n",
            "val_acc: 0.8494\n",
            "val_acc: 0.8497\n",
            "val_acc: 0.8483\n",
            "val_acc: 0.8472\n",
            "val_acc: 0.8471\n",
            "val_acc: 0.8495\n",
            "val_acc: 0.8495\n",
            "val_acc: 0.8473\n",
            "val_acc: 0.8493\n",
            "val_acc: 0.8495\n",
            "val_acc: 0.8489\n",
            "val_acc: 0.8398\n",
            "val_acc: 0.8411\n",
            "val_acc: 0.8394\n",
            "val_acc: 0.8475\n",
            "val_acc: 0.8499\n",
            "val_acc: 0.8474\n",
            "val_acc: 0.8485\n",
            "val_acc: 0.8491\n",
            "val_acc: 0.8485\n",
            "val_acc: 0.848\n",
            "val_acc: 0.8477\n",
            "val_acc: 0.8473\n",
            "val_acc: 0.8486\n",
            "val_acc: 0.8431\n",
            "val_acc: 0.8458\n",
            "val_acc: 0.8466\n",
            "val_acc: 0.8477\n",
            "val_acc: 0.8486\n",
            "val_acc: 0.8496\n",
            "val_acc: 0.8487\n",
            "val_acc: 0.8479\n",
            "val_acc: 0.8468\n",
            "val_acc: 0.8478\n",
            "val_acc: 0.8495\n",
            "val_acc: 0.848\n",
            "val_acc: 0.8449\n",
            "val_acc: 0.8448\n",
            "val_acc: 0.8437\n",
            ".val_acc: 0.8435\n",
            "val_acc: 0.8441\n",
            "val_acc: 0.8432\n",
            "val_acc: 0.8461\n",
            "val_acc: 0.8446\n",
            "val_acc: 0.8447\n",
            "val_acc: 0.844\n",
            "val_acc: 0.8455\n",
            "val_acc: 0.8425\n",
            "val_acc: 0.844\n",
            "val_acc: 0.8454\n",
            "val_acc: 0.8461\n",
            "val_acc: 0.847\n",
            "val_acc: 0.8487\n",
            "val_acc: 0.8459\n",
            "val_acc: 0.8471\n",
            "val_acc: 0.8476\n",
            "val_acc: 0.8434\n",
            "val_acc: 0.8469\n",
            "val_acc: 0.8466\n",
            "val_acc: 0.8464\n",
            "val_acc: 0.8474\n",
            "val_acc: 0.8462\n",
            "val_acc: 0.8463\n",
            "val_acc: 0.8472\n",
            "val_acc: 0.8448\n",
            "val_acc: 0.8473\n",
            "val_acc: 0.844\n",
            "val_acc: 0.8477\n",
            "val_acc: 0.8464\n",
            "val_acc: 0.8472\n",
            "val_acc: 0.8488\n",
            "val_acc: 0.8478\n",
            "val_acc: 0.849\n",
            "val_acc: 0.8498\n",
            "val_acc: 0.8506\n",
            "val_acc: 0.8507\n",
            "val_acc: 0.8508\n",
            "val_acc: 0.8461\n",
            "val_acc: 0.8469\n",
            "val_acc: 0.8473\n",
            "val_acc: 0.8497\n",
            "val_acc: 0.8484\n",
            "val_acc: 0.8462\n",
            "val_acc: 0.8459\n",
            "val_acc: 0.8479\n",
            "val_acc: 0.8493\n",
            "val_acc: 0.8494\n",
            "val_acc: 0.8474\n",
            "val_acc: 0.8485\n",
            ".val_acc: 0.85\n",
            "val_acc: 0.8495\n",
            "val_acc: 0.8478\n",
            "val_acc: 0.8489\n",
            "val_acc: 0.8484\n",
            "val_acc: 0.8491\n",
            "val_acc: 0.8497\n",
            "val_acc: 0.8511\n",
            "val_acc: 0.8524\n",
            "val_acc: 0.8524\n",
            "val_acc: 0.849\n",
            "val_acc: 0.8473\n",
            "val_acc: 0.8476\n",
            "val_acc: 0.8488\n",
            "val_acc: 0.8488\n",
            "val_acc: 0.8506\n",
            "val_acc: 0.8512\n",
            "val_acc: 0.8477\n",
            "val_acc: 0.85\n",
            "val_acc: 0.8513\n",
            "val_acc: 0.8519\n",
            "val_acc: 0.8525\n",
            "val_acc: 0.8513\n",
            "val_acc: 0.8509\n",
            "val_acc: 0.852\n",
            "val_acc: 0.8501\n",
            "val_acc: 0.852\n",
            "val_acc: 0.8538\n",
            "val_acc: 0.8533\n",
            "val_acc: 0.854\n",
            "val_acc: 0.8525\n",
            "val_acc: 0.8539\n",
            "val_acc: 0.8541\n",
            "val_acc: 0.8552\n",
            "val_acc: 0.8539\n",
            "val_acc: 0.8519\n",
            "val_acc: 0.8493\n",
            "val_acc: 0.8512\n",
            "val_acc: 0.8551\n",
            "val_acc: 0.8552\n",
            "val_acc: 0.8534\n",
            "val_acc: 0.855\n",
            "val_acc: 0.8549\n",
            "val_acc: 0.855\n",
            "val_acc: 0.8542\n",
            "val_acc: 0.8541\n",
            "val_acc: 0.853\n",
            "val_acc: 0.8544\n",
            "val_acc: 0.855\n",
            "val_acc: 0.8538\n",
            ".val_acc: 0.8523\n",
            "val_acc: 0.8498\n",
            "val_acc: 0.8493\n",
            "val_acc: 0.8481\n",
            "val_acc: 0.8473\n",
            "val_acc: 0.8487\n",
            "val_acc: 0.848\n",
            "val_acc: 0.8496\n",
            "val_acc: 0.8517\n",
            "val_acc: 0.8513\n",
            "val_acc: 0.8537\n",
            "val_acc: 0.8527\n",
            "val_acc: 0.8533\n",
            "val_acc: 0.8511\n",
            "val_acc: 0.8532\n",
            "val_acc: 0.8541\n",
            "val_acc: 0.8533\n",
            "val_acc: 0.8532\n",
            "val_acc: 0.8547\n",
            "val_acc: 0.8541\n",
            "val_acc: 0.8513\n",
            "val_acc: 0.8506\n",
            "val_acc: 0.8536\n",
            "val_acc: 0.851\n",
            "val_acc: 0.8503\n",
            "val_acc: 0.8508\n",
            "val_acc: 0.8488\n",
            "val_acc: 0.8489\n",
            "val_acc: 0.8476\n",
            "val_acc: 0.8494\n",
            "val_acc: 0.8511\n",
            "val_acc: 0.851\n",
            "val_acc: 0.8498\n",
            "val_acc: 0.8519\n",
            "val_acc: 0.851\n",
            "val_acc: 0.8479\n",
            "val_acc: 0.848\n",
            "val_acc: 0.8503\n",
            "val_acc: 0.8485\n",
            "val_acc: 0.8493\n",
            "val_acc: 0.8475\n",
            "val_acc: 0.847\n",
            "val_acc: 0.8478\n",
            "val_acc: 0.8475\n",
            "val_acc: 0.8476\n",
            "val_acc: 0.8493\n",
            "val_acc: 0.8472\n",
            "val_acc: 0.8501\n",
            "val_acc: 0.8508\n",
            "val_acc: 0.8492\n",
            ".val_acc: 0.8493\n",
            "val_acc: 0.8475\n",
            "val_acc: 0.851\n",
            "val_acc: 0.855\n",
            "val_acc: 0.8552\n",
            "val_acc: 0.8553\n",
            "val_acc: 0.8555\n",
            "val_acc: 0.8538\n",
            "val_acc: 0.854\n",
            "val_acc: 0.8525\n",
            "val_acc: 0.8547\n",
            "val_acc: 0.8518\n",
            "val_acc: 0.8511\n",
            "val_acc: 0.8487\n",
            "val_acc: 0.8515\n",
            "val_acc: 0.8535\n",
            "val_acc: 0.852\n",
            "val_acc: 0.8522\n",
            "val_acc: 0.851\n",
            "val_acc: 0.8512\n",
            "val_acc: 0.8476\n",
            "val_acc: 0.8497\n",
            "val_acc: 0.8532\n",
            "val_acc: 0.8535\n",
            "val_acc: 0.8522\n",
            "val_acc: 0.8551\n",
            "val_acc: 0.853\n",
            "val_acc: 0.8548\n",
            "val_acc: 0.8548\n",
            "val_acc: 0.8531\n",
            "val_acc: 0.8542\n",
            "val_acc: 0.8534\n",
            "val_acc: 0.8528\n",
            "val_acc: 0.8521\n",
            "val_acc: 0.8521\n",
            "val_acc: 0.8547\n",
            "val_acc: 0.8541\n",
            "val_acc: 0.8517\n",
            "val_acc: 0.8536\n",
            "val_acc: 0.8532\n",
            "val_acc: 0.8501\n",
            "val_acc: 0.8517\n",
            "val_acc: 0.852\n",
            "val_acc: 0.8519\n",
            "val_acc: 0.8524\n",
            "val_acc: 0.8551\n",
            "val_acc: 0.8548\n",
            "val_acc: 0.8539\n",
            "val_acc: 0.8539\n",
            "val_acc: 0.8538\n",
            ".val_acc: 0.8536\n",
            "val_acc: 0.8545\n",
            "val_acc: 0.8502\n",
            "val_acc: 0.8499\n",
            "val_acc: 0.8506\n",
            "val_acc: 0.8505\n",
            "val_acc: 0.8514\n",
            "val_acc: 0.8521\n",
            "val_acc: 0.8513\n",
            "val_acc: 0.8515\n",
            "val_acc: 0.8527\n",
            "val_acc: 0.8499\n",
            "val_acc: 0.8494\n",
            "val_acc: 0.8516\n",
            "val_acc: 0.8504\n",
            "val_acc: 0.8493\n",
            "val_acc: 0.8504\n",
            "val_acc: 0.8504\n",
            "val_acc: 0.8511\n",
            "val_acc: 0.8505\n",
            "val_acc: 0.8507\n",
            "val_acc: 0.8503\n",
            "val_acc: 0.8524\n",
            "val_acc: 0.8531\n",
            "val_acc: 0.8528\n",
            "val_acc: 0.8526\n",
            "val_acc: 0.8514\n",
            "val_acc: 0.8499\n",
            "val_acc: 0.8478\n",
            "val_acc: 0.8492\n",
            "val_acc: 0.8491\n",
            "val_acc: 0.8511\n",
            "val_acc: 0.8504\n",
            "val_acc: 0.8508\n",
            "val_acc: 0.8515\n",
            "val_acc: 0.8518\n",
            "val_acc: 0.8507\n",
            "val_acc: 0.8513\n",
            "val_acc: 0.8522\n",
            "val_acc: 0.8534\n",
            "val_acc: 0.8515\n",
            "val_acc: 0.8511\n",
            "val_acc: 0.85\n",
            "val_acc: 0.8501\n",
            "val_acc: 0.8514\n",
            "val_acc: 0.853\n",
            "val_acc: 0.852\n",
            "val_acc: 0.8522\n",
            "val_acc: 0.8514\n",
            "val_acc: 0.854\n",
            ".val_acc: 0.8542\n",
            "val_acc: 0.8514\n",
            "val_acc: 0.8514\n",
            "val_acc: 0.8524\n",
            "val_acc: 0.8521\n",
            "val_acc: 0.8502\n",
            "val_acc: 0.8519\n",
            "val_acc: 0.8537\n",
            "val_acc: 0.8525\n",
            "val_acc: 0.8513\n",
            "val_acc: 0.8534\n",
            "val_acc: 0.8531\n",
            "val_acc: 0.8511\n",
            "val_acc: 0.8489\n",
            "val_acc: 0.8486\n",
            "val_acc: 0.8489\n",
            "val_acc: 0.8508\n",
            "val_acc: 0.8501\n",
            "val_acc: 0.852\n",
            "val_acc: 0.8524\n",
            "val_acc: 0.8534\n",
            "val_acc: 0.8552\n",
            "val_acc: 0.8524\n",
            "val_acc: 0.8532\n",
            "val_acc: 0.8521\n",
            "val_acc: 0.8547\n",
            "val_acc: 0.8507\n",
            "val_acc: 0.8496\n",
            "val_acc: 0.8499\n",
            "val_acc: 0.852\n",
            "val_acc: 0.8502\n",
            "val_acc: 0.8498\n",
            "val_acc: 0.8522\n",
            "val_acc: 0.8506\n",
            "val_acc: 0.8546\n",
            "val_acc: 0.8504\n",
            "val_acc: 0.8527\n",
            "val_acc: 0.8502\n",
            "val_acc: 0.8505\n",
            "val_acc: 0.8489\n",
            "val_acc: 0.8475\n",
            "val_acc: 0.8488\n",
            "val_acc: 0.8502\n",
            "val_acc: 0.8549\n",
            "val_acc: 0.8566\n",
            "val_acc: 0.8545\n",
            "val_acc: 0.8528\n",
            "val_acc: 0.853\n",
            "val_acc: 0.853\n",
            "val_acc: 0.8494\n",
            ".val_acc: 0.8481\n",
            "val_acc: 0.8501\n",
            "val_acc: 0.8511\n",
            "val_acc: 0.8518\n",
            "val_acc: 0.8532\n",
            "val_acc: 0.8542\n",
            "val_acc: 0.8549\n",
            "val_acc: 0.8528\n",
            "val_acc: 0.8554\n",
            "val_acc: 0.8548\n",
            "val_acc: 0.8548\n",
            "val_acc: 0.8545\n",
            "val_acc: 0.8538\n",
            "val_acc: 0.8536\n",
            "val_acc: 0.8544\n",
            "val_acc: 0.8508\n",
            "val_acc: 0.8529\n",
            "val_acc: 0.8558\n",
            "val_acc: 0.8537\n",
            "val_acc: 0.8501\n",
            "val_acc: 0.8508\n",
            "val_acc: 0.8535\n",
            "val_acc: 0.8548\n",
            "val_acc: 0.8556\n",
            "val_acc: 0.8554\n",
            "val_acc: 0.8563\n",
            "val_acc: 0.8565\n",
            "val_acc: 0.857\n",
            "val_acc: 0.8574\n",
            "val_acc: 0.8553\n",
            "val_acc: 0.8577\n",
            "val_acc: 0.8578\n",
            "val_acc: 0.8554\n",
            "val_acc: 0.8535\n",
            "val_acc: 0.8522\n",
            "val_acc: 0.8518\n",
            "val_acc: 0.8536\n",
            "val_acc: 0.8546\n",
            "val_acc: 0.8556\n",
            "val_acc: 0.8511\n",
            "val_acc: 0.8528\n",
            "val_acc: 0.8504\n",
            "val_acc: 0.8502\n",
            "val_acc: 0.8526\n",
            "val_acc: 0.8533\n",
            "val_acc: 0.8527\n",
            "val_acc: 0.8541\n",
            "val_acc: 0.856\n",
            "val_acc: 0.8551\n",
            "val_acc: 0.8525\n",
            ".val_acc: 0.8577\n",
            "val_acc: 0.8565\n",
            "val_acc: 0.8581\n",
            "val_acc: 0.8581\n",
            "val_acc: 0.8562\n",
            "val_acc: 0.8547\n",
            "val_acc: 0.8546\n",
            "val_acc: 0.8539\n",
            "val_acc: 0.8532\n",
            "val_acc: 0.8547\n",
            "val_acc: 0.8546\n",
            "val_acc: 0.8535\n",
            "val_acc: 0.8574\n",
            "val_acc: 0.8568\n",
            "val_acc: 0.8572\n",
            "val_acc: 0.8551\n",
            "val_acc: 0.8541\n",
            "val_acc: 0.8533\n",
            "val_acc: 0.8558\n",
            "val_acc: 0.8542\n",
            "val_acc: 0.853\n",
            "val_acc: 0.8562\n",
            "val_acc: 0.8561\n",
            "val_acc: 0.8559\n",
            "val_acc: 0.8548\n",
            "val_acc: 0.8538\n",
            "val_acc: 0.8524\n",
            "val_acc: 0.8536\n",
            "val_acc: 0.8548\n",
            "val_acc: 0.8538\n",
            "val_acc: 0.8555\n",
            "val_acc: 0.8578\n",
            "val_acc: 0.8578\n",
            "val_acc: 0.8576\n",
            "val_acc: 0.8589\n",
            "val_acc: 0.86\n",
            "val_acc: 0.8571\n",
            "val_acc: 0.8568\n",
            "val_acc: 0.8578\n",
            "val_acc: 0.8577\n",
            "val_acc: 0.8543\n",
            "val_acc: 0.8558\n",
            "val_acc: 0.8571\n",
            "val_acc: 0.8538\n",
            "val_acc: 0.8553\n",
            "val_acc: 0.8517\n",
            "val_acc: 0.8507\n",
            "val_acc: 0.8529\n",
            "val_acc: 0.8521\n",
            "val_acc: 0.854\n"
          ]
        }
      ],
      "source": [
        "history = net.train(x_train, y_train, x_test, y_test, epochs, steps_per_epoch,batch_size, lr)"
      ]
    },
    {
      "cell_type": "markdown",
      "metadata": {
        "id": "pczq2_oYsWqW"
      },
      "source": [
        "# Task 9: Results"
      ]
    },
    {
      "cell_type": "code",
      "execution_count": 40,
      "metadata": {
        "colab": {
          "base_uri": "https://localhost:8080/",
          "height": 363
        },
        "id": "j1uB0bvPsWqW",
        "outputId": "9361dc3f-c553-4cb8-b1ba-5f4c30124e04"
      },
      "outputs": [
        {
          "output_type": "display_data",
          "data": {
            "text/plain": [
              "<Figure size 1200x400 with 2 Axes>"
            ],
            "image/png": "[encoded data removed]"
          },
          "metadata": {}
        }
      ],
      "source": [
        "nn_utils.plot_results(history).show()"
      ]
    },
    {
      "cell_type": "code",
      "execution_count": 41,
      "metadata": {
        "id": "DXoulRwLsWqX"
      },
      "outputs": [],
      "source": [
        "preds = net.predict(x_test)\n"
      ]
    },
    {
      "cell_type": "code",
      "execution_count": 44,
      "metadata": {
        "colab": {
          "base_uri": "https://localhost:8080/",
          "height": 400
        },
        "id": "pq9U7k2gsWqX",
        "outputId": "a44bb443-ff4e-42cc-8454-ca1bfc480966"
      },
      "outputs": [
        {
          "output_type": "display_data",
          "data": {
            "text/plain": [
              "<Figure size 1000x500 with 10 Axes>"
            ],
            "image/png": "[encoded data removed]"
          },
          "metadata": {}
        }
      ],
      "source": [
        "nn_utils.plot_random_examples(x_test, y_test, preds.numpy()).show()"
      ]
    },
    {
      "cell_type": "code",
      "execution_count": null,
      "metadata": {
        "id": "LKGWyDWRsWqX"
      },
      "outputs": [],
      "source": []
    }
  ],
  "metadata": {
    "kernelspec": {
      "display_name": "Python 3",
      "name": "python3"
    },
    "language_info": {
      "codemirror_mode": {
        "name": "ipython",
        "version": 3
      },
      "file_extension": ".py",
      "mimetype": "text/x-python",
      "name": "python",
      "nbconvert_exporter": "python",
      "pygments_lexer": "ipython3",
      "version": "3.7.0"
    },
    "colab": {
      "provenance": [],
      "gpuType": "V28",
      "include_colab_link": true
    },
    "accelerator": "TPU"
  },
  "nbformat": 4,
  "nbformat_minor": 0
}